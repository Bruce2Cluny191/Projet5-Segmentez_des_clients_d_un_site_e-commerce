{
 "cells": [
  {
   "cell_type": "markdown",
   "id": "a0cc66ae",
   "metadata": {},
   "source": [
    "# Mission\n",
    "Vous êtes consultant pour *Olist*, une entreprise brésilienne qui propose une solution de vente sur les marketplaces en ligne.\n",
    "\n",
    "**Olist** souhaite que vous fournissiez à ses équipes d'e-commerce une **segmentation des clients** qu’elles pourront utiliser au quotidien pour leurs campagnes de communication.\n",
    "\n",
    "Votre objectif est de **comprendre les différents types d’utilisateurs** grâce à leur comportement et à leurs données personnelles.\n",
    "\n",
    "Vous devrez **fournir à l’équipe marketing une description actionable** de votre segmentation et de sa logique sous-jacente pour une utilisation optimale, ainsi qu’une **proposition de contrat de maintenance** basée sur une analyse de la stabilité des segments au cours du temps.\n",
    "\n",
    "## Les données\n",
    "Pour cette mission, Olist vous fournit une *base de données* anonymisée comportant des informations sur l’historique de commandes, les produits achetés, les commentaires de satisfaction, et la localisation des clients depuis janvier 2017.\n",
    "\n",
    "## Votre mission\n",
    "Votre mission est d’aider les équipes d’Olist à comprendre les différents types d'utilisateurs. Vous utiliserez donc des méthodes non supervisées pour regrouper des clients de profils similaires. Ces catégories pourront être utilisées par l’équipe Marketing pour mieux communiquer.\n",
    "\n",
    "Vous créez donc un notebook et démarrez votre travail.\n",
    "# Simulation pour déterminer la fréquence nécessaire de mise à jour du modèle de segmentation\n",
    "L'objectif est d'estimer la dégradation d'un clustering initial dans le temps.\n",
    "\n",
    "En effet, pour une même clientèle, les variables RFM évoluent temporellement et donc les clients sont susceptibles basculer d'un cluster à un autre.\n",
    "\n",
    "Cette **instabilité du clustering** peut être mesurée avec l'*Indice Rand Ajusté* (**ARI**) et au-delà d'une certaine dérive, il sera nécessaire de réinitialiser le modèle de clustering.\n",
    "## Import des librairies utilisées"
   ]
  },
  {
   "cell_type": "code",
   "execution_count": 1,
   "id": "f229a626",
   "metadata": {},
   "outputs": [],
   "source": [
    "import numpy as np\n",
    "import pandas as pd\n",
    "import matplotlib.pyplot as plt\n",
    "import seaborn as sns\n",
    "\n",
    "from sklearn.cluster import KMeans\n",
    "from sklearn import preprocessing\n",
    "from sklearn.metrics import adjusted_rand_score"
   ]
  },
  {
   "cell_type": "markdown",
   "id": "a420782e",
   "metadata": {},
   "source": [
    "## Paramétrage d'affichage"
   ]
  },
  {
   "cell_type": "code",
   "execution_count": 2,
   "id": "6abc8298",
   "metadata": {},
   "outputs": [],
   "source": [
    "sns.set_theme(style='whitegrid', palette='pastel')"
   ]
  },
  {
   "cell_type": "markdown",
   "id": "d67e1973",
   "metadata": {},
   "source": [
    "## Import du dataset\n",
    "Il me faut récupérer un dataframe initial, nettoyé, mais avant le features engineering, afin de pouvoir construire autant de dataframes que de périodes d'observations souhaitées.\n",
    "\n",
    "Le dataframe initial doit contenir les variables :\n",
    "- order_purchase_timestamp\n",
    "- customer_unique_id\n",
    "- order_id\n",
    "- payment_value"
   ]
  },
  {
   "cell_type": "code",
   "execution_count": 3,
   "id": "ed9cf2df",
   "metadata": {},
   "outputs": [
    {
     "data": {
      "text/plain": [
       "order_purchase_timestamp     object\n",
       "customer_unique_id           object\n",
       "order_id                     object\n",
       "payment_value               float64\n",
       "dtype: object"
      ]
     },
     "execution_count": 3,
     "metadata": {},
     "output_type": "execute_result"
    }
   ],
   "source": [
    "data = pd.read_csv('simulation.csv', encoding='utf-8')\n",
    "df = data.copy()\n",
    "df.dtypes"
   ]
  },
  {
   "cell_type": "markdown",
   "id": "a6339542",
   "metadata": {},
   "source": [
    "Les dates sont au format *object*.\n",
    "## Préparation du dataframe\n",
    "### Transformation des dates en vraies dates"
   ]
  },
  {
   "cell_type": "code",
   "execution_count": 4,
   "id": "d036ec03",
   "metadata": {},
   "outputs": [
    {
     "data": {
      "text/html": [
       "<div>\n",
       "<style scoped>\n",
       "    .dataframe tbody tr th:only-of-type {\n",
       "        vertical-align: middle;\n",
       "    }\n",
       "\n",
       "    .dataframe tbody tr th {\n",
       "        vertical-align: top;\n",
       "    }\n",
       "\n",
       "    .dataframe thead th {\n",
       "        text-align: right;\n",
       "    }\n",
       "</style>\n",
       "<table border=\"1\" class=\"dataframe\">\n",
       "  <thead>\n",
       "    <tr style=\"text-align: right;\">\n",
       "      <th></th>\n",
       "      <th>order_purchase_timestamp</th>\n",
       "      <th>customer_unique_id</th>\n",
       "      <th>order_id</th>\n",
       "      <th>payment_value</th>\n",
       "    </tr>\n",
       "  </thead>\n",
       "  <tbody>\n",
       "    <tr>\n",
       "      <th>0</th>\n",
       "      <td>2017-05-16 15:05:35</td>\n",
       "      <td>861eff4711a542e4b93843c6dd7febb0</td>\n",
       "      <td>00e7ee1b050b8499577073aeb2a297a1</td>\n",
       "      <td>146.87</td>\n",
       "    </tr>\n",
       "  </tbody>\n",
       "</table>\n",
       "</div>"
      ],
      "text/plain": [
       "  order_purchase_timestamp                customer_unique_id  \\\n",
       "0      2017-05-16 15:05:35  861eff4711a542e4b93843c6dd7febb0   \n",
       "\n",
       "                           order_id  payment_value  \n",
       "0  00e7ee1b050b8499577073aeb2a297a1         146.87  "
      ]
     },
     "execution_count": 4,
     "metadata": {},
     "output_type": "execute_result"
    }
   ],
   "source": [
    "df['order_purchase_timestamp'] = pd.to_datetime(\n",
    "    df['order_purchase_timestamp'], format='%Y/%m/%d', errors='coerce')\n",
    "df.head(1)"
   ]
  },
  {
   "cell_type": "code",
   "execution_count": 5,
   "id": "07bbfcd5",
   "metadata": {},
   "outputs": [
    {
     "name": "stdout",
     "output_type": "stream",
     "text": [
      "Date de commande la plus ancienne : 2016-09-04 21:15:19\n",
      "Date de commande la plus récente : 2018-10-17 17:30:18\n"
     ]
    }
   ],
   "source": [
    "print('Date de commande la plus ancienne :',\n",
    "      df['order_purchase_timestamp'].min())\n",
    "print('Date de commande la plus récente :',\n",
    "      df['order_purchase_timestamp'].max())"
   ]
  },
  {
   "cell_type": "markdown",
   "id": "5d2edc08",
   "metadata": {},
   "source": [
    "### Création d'une ligne chronologique en jours démarrant à la date de la plus ancienne commande"
   ]
  },
  {
   "cell_type": "code",
   "execution_count": 6,
   "id": "ac0f125b",
   "metadata": {},
   "outputs": [
    {
     "data": {
      "text/html": [
       "<div>\n",
       "<style scoped>\n",
       "    .dataframe tbody tr th:only-of-type {\n",
       "        vertical-align: middle;\n",
       "    }\n",
       "\n",
       "    .dataframe tbody tr th {\n",
       "        vertical-align: top;\n",
       "    }\n",
       "\n",
       "    .dataframe thead th {\n",
       "        text-align: right;\n",
       "    }\n",
       "</style>\n",
       "<table border=\"1\" class=\"dataframe\">\n",
       "  <thead>\n",
       "    <tr style=\"text-align: right;\">\n",
       "      <th></th>\n",
       "      <th>order_purchase_timestamp</th>\n",
       "      <th>customer_unique_id</th>\n",
       "      <th>order_id</th>\n",
       "      <th>payment_value</th>\n",
       "      <th>d_day</th>\n",
       "    </tr>\n",
       "  </thead>\n",
       "  <tbody>\n",
       "    <tr>\n",
       "      <th>0</th>\n",
       "      <td>2017-05-16 15:05:35</td>\n",
       "      <td>861eff4711a542e4b93843c6dd7febb0</td>\n",
       "      <td>00e7ee1b050b8499577073aeb2a297a1</td>\n",
       "      <td>146.87</td>\n",
       "      <td>253</td>\n",
       "    </tr>\n",
       "  </tbody>\n",
       "</table>\n",
       "</div>"
      ],
      "text/plain": [
       "  order_purchase_timestamp                customer_unique_id  \\\n",
       "0      2017-05-16 15:05:35  861eff4711a542e4b93843c6dd7febb0   \n",
       "\n",
       "                           order_id  payment_value  d_day  \n",
       "0  00e7ee1b050b8499577073aeb2a297a1         146.87    253  "
      ]
     },
     "execution_count": 6,
     "metadata": {},
     "output_type": "execute_result"
    }
   ],
   "source": [
    "df['d_day'] = (df['order_purchase_timestamp'] -\n",
    "               df['order_purchase_timestamp'].min()).dt.days\n",
    "df.head(1)"
   ]
  },
  {
   "cell_type": "code",
   "execution_count": 7,
   "id": "e7760ea5",
   "metadata": {},
   "outputs": [
    {
     "name": "stdout",
     "output_type": "stream",
     "text": [
      "La commande la plus récente a été passée 772 jours après la première commande.\n"
     ]
    }
   ],
   "source": [
    "print('La commande la plus récente a été passée',\n",
    "      df['d_day'].max(), 'jours après la première commande.')"
   ]
  },
  {
   "cell_type": "markdown",
   "id": "87958a2b",
   "metadata": {},
   "source": [
    "La date devient inutile :"
   ]
  },
  {
   "cell_type": "code",
   "execution_count": 8,
   "id": "a571825c",
   "metadata": {},
   "outputs": [
    {
     "data": {
      "text/html": [
       "<div>\n",
       "<style scoped>\n",
       "    .dataframe tbody tr th:only-of-type {\n",
       "        vertical-align: middle;\n",
       "    }\n",
       "\n",
       "    .dataframe tbody tr th {\n",
       "        vertical-align: top;\n",
       "    }\n",
       "\n",
       "    .dataframe thead th {\n",
       "        text-align: right;\n",
       "    }\n",
       "</style>\n",
       "<table border=\"1\" class=\"dataframe\">\n",
       "  <thead>\n",
       "    <tr style=\"text-align: right;\">\n",
       "      <th></th>\n",
       "      <th>customer_unique_id</th>\n",
       "      <th>order_id</th>\n",
       "      <th>payment_value</th>\n",
       "      <th>d_day</th>\n",
       "    </tr>\n",
       "  </thead>\n",
       "  <tbody>\n",
       "    <tr>\n",
       "      <th>0</th>\n",
       "      <td>861eff4711a542e4b93843c6dd7febb0</td>\n",
       "      <td>00e7ee1b050b8499577073aeb2a297a1</td>\n",
       "      <td>146.87</td>\n",
       "      <td>253</td>\n",
       "    </tr>\n",
       "  </tbody>\n",
       "</table>\n",
       "</div>"
      ],
      "text/plain": [
       "                 customer_unique_id                          order_id  \\\n",
       "0  861eff4711a542e4b93843c6dd7febb0  00e7ee1b050b8499577073aeb2a297a1   \n",
       "\n",
       "   payment_value  d_day  \n",
       "0         146.87    253  "
      ]
     },
     "execution_count": 8,
     "metadata": {},
     "output_type": "execute_result"
    }
   ],
   "source": [
    "df = df.drop(columns='order_purchase_timestamp')\n",
    "df.head(1)"
   ]
  },
  {
   "cell_type": "markdown",
   "id": "e602fd09",
   "metadata": {},
   "source": [
    "## Création des dataframes pour les calculs de *ARI*\n",
    "Les dataframes seront construits avec des paramètres :\n",
    "- jour *day0* de fin de première période\n",
    "- intervalle *deltaday* de périodicité des plages d'observation supplémentaires\n",
    "### Fonction d'extraction du dataframe"
   ]
  },
  {
   "cell_type": "code",
   "execution_count": 9,
   "id": "afb81ee1",
   "metadata": {},
   "outputs": [],
   "source": [
    "def df_builder(day):\n",
    "    \"\"\"Build a dataframe to be used in computing ARI score\"\"\"\n",
    "\n",
    "    df_extracted = df.loc[df['d_day'] <= day]\n",
    "    df_extracted = df_extracted.copy()\n",
    "    df_extracted['recency'] = day - df_extracted['d_day']\n",
    "    df_build_recency = df_extracted.groupby(\n",
    "        'customer_unique_id').agg({'recency': 'min'})\n",
    "    df_build_frequency = df_extracted.groupby(\n",
    "        'customer_unique_id').agg({'order_id': 'nunique'})\n",
    "    df_build_frequency = df_build_frequency.rename(\n",
    "        columns={'order_id': 'frequency'})\n",
    "    df_build_monetary = df_extracted.loc[~(\n",
    "        df_extracted.duplicated(subset=['order_id', 'payment_value']))]\n",
    "    df_build_monetary = df_build_monetary.groupby(\n",
    "        'customer_unique_id').agg({'payment_value': 'sum'})\n",
    "    df_build_monetary = df_build_monetary.rename(\n",
    "        columns={'payment_value': 'monetary'})\n",
    "    df_built = pd.merge(df_build_recency, df_build_frequency,\n",
    "                        left_index=True, right_index=True)\n",
    "    df_built = pd.merge(df_built, df_build_monetary,\n",
    "                        left_index=True, right_index=True)\n",
    "\n",
    "    return df_built.values"
   ]
  },
  {
   "cell_type": "markdown",
   "id": "eb5dc1f4",
   "metadata": {},
   "source": [
    "## Création de modèle de clustering\n",
    "Les paramètres du modèle sont ceux choisis lors des essais de modélisation :"
   ]
  },
  {
   "cell_type": "code",
   "execution_count": 10,
   "id": "a1cb072b",
   "metadata": {},
   "outputs": [],
   "source": [
    "kmeans = KMeans(n_clusters=4, n_init=1, init='k-means++', random_state=39)"
   ]
  },
  {
   "cell_type": "markdown",
   "id": "74e10440",
   "metadata": {},
   "source": [
    "### Fonction d'instanciation d'un scaler et d'un modèle de clustering à une date donnée"
   ]
  },
  {
   "cell_type": "code",
   "execution_count": 11,
   "id": "68e7f74e",
   "metadata": {},
   "outputs": [],
   "source": [
    "def clustering(data):\n",
    "    \"\"\" Sorts clustering parameters by KMeans of a dataframe that needs to be normalized too. \"\"\"\n",
    "    scaler = preprocessing.StandardScaler().fit(data)\n",
    "    X_scaled = scaler.transform(data)\n",
    "    return scaler, kmeans.fit(X_scaled)"
   ]
  },
  {
   "cell_type": "markdown",
   "id": "1e6efc3c",
   "metadata": {},
   "source": [
    "## Indice de Rand Ajusté (ARI)\n",
    "Le principe est de mesurer l'obsolescence d'un modèle de segmentation en comparant un modèle établi à une date donnée avec un modèle mis à jour."
   ]
  },
  {
   "cell_type": "code",
   "execution_count": 12,
   "id": "646bc318",
   "metadata": {},
   "outputs": [],
   "source": [
    "def ari(day0, deltaday):\n",
    "    \"\"\" Uses former functions to compute the evolution of the ARI score. \"\"\"\n",
    "    aris = []\n",
    "    df_0 = df_builder(day0)\n",
    "    scaler_0, kmeans_0 = clustering(df_0)\n",
    "    intervals = np.arange(day0, df['d_day'].max(), deltaday)\n",
    "    for i in intervals:\n",
    "        df_i = df_builder(i)\n",
    "        X_scd_0 = scaler_0.transform(df_i)\n",
    "        X_0_i = kmeans_0.predict(X_scd_0)\n",
    "        scaler_i, kmeans_i = clustering(df_i)\n",
    "        X_scd_i = scaler_i.transform(df_i)\n",
    "        X_i_i = kmeans_i.predict(X_scd_i)\n",
    "        ari = adjusted_rand_score(X_0_i, X_i_i)\n",
    "        aris.append(ari)\n",
    "    fig = plt.figure(figsize=(13, 8))\n",
    "    plt.plot(intervals-day0, aris)\n",
    "    plt.plot([0, intervals[-1]-day0], [0.8, 0.8], color='red')\n",
    "    plt.title(\n",
    "        \"Evolution du score ARI pour apprécier le besoin de renouvellement du modèle\", fontsize=15)\n",
    "    plt.xlabel('Jours', fontsize=14)\n",
    "    plt.ylabel('ARI', fontsize=14)\n",
    "    plt.show()"
   ]
  },
  {
   "cell_type": "code",
   "execution_count": 13,
   "id": "a8a01a6f",
   "metadata": {
    "scrolled": false
   },
   "outputs": [
    {
     "data": {
      "image/png": "[encoded data removed]",
      "text/plain": [
       "<Figure size 1300x800 with 1 Axes>"
      ]
     },
     "metadata": {},
     "output_type": "display_data"
    }
   ],
   "source": [
    "ari(730, 2)"
   ]
  },
  {
   "cell_type": "markdown",
   "id": "dcd81f10",
   "metadata": {},
   "source": [
    "## Conclusion\n",
    "En considérant un **ARI** score < **80%** comme signal d'alerte, le modèle de segmentation nécessiterait d'être réactualisé tous les **32 jours**, ou sinon toutes les **4 semaines**, ou encore **une fois par mois** !"
   ]
  }
 ],
 "metadata": {
  "kernelspec": {
   "display_name": "Python 3 (ipykernel)",
   "language": "python",
   "name": "python3"
  },
  "language_info": {
   "codemirror_mode": {
    "name": "ipython",
    "version": 3
   },
   "file_extension": ".py",
   "mimetype": "text/x-python",
   "name": "python",
   "nbconvert_exporter": "python",
   "pygments_lexer": "ipython3",
   "version": "3.10.11"
  }
 },
 "nbformat": 4,
 "nbformat_minor": 5
}
